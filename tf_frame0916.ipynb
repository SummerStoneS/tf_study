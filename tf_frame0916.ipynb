{
 "cells": [
  {
   "cell_type": "code",
   "execution_count": 1,
   "metadata": {
    "collapsed": true
   },
   "outputs": [],
   "source": [
    "\"\"\"\n",
    "    author: Serena Shen\n",
    "    @ 2017-09-16\n",
    "\"\"\""
   ]
  },
  {
   "cell_type": "code",
   "execution_count": 2,
   "metadata": {},
   "outputs": [],
   "source": [
    "import tensorflow as tf\n",
    "import numpy as np"
   ]
  },
  {
   "cell_type": "code",
   "execution_count": 10,
   "metadata": {},
   "outputs": [],
   "source": [
    "# 定义数据流图dataflow\n",
    "a = tf.constant(5, name='input_a')\n",
    "b = tf.constant(3, name='input_b')\n",
    "c = a+b\n",
    "d = a*b\n",
    "e = c+d"
   ]
  },
  {
   "cell_type": "code",
   "execution_count": 11,
   "metadata": {},
   "outputs": [],
   "source": [
    "# 创建TensorFlow session对象\n",
    "sess = tf.Session()\n",
    "output = sess.run(e)"
   ]
  },
  {
   "cell_type": "code",
   "execution_count": 12,
   "metadata": {},
   "outputs": [],
   "source": [
    "# 创建writer对象\n",
    "writer = tf.summary.FileWriter('./my_graph', sess.graph)\n",
    "\n",
    "# cmd-> cd path ->tensorboard --logdir='my_graph'"
   ]
  },
  {
   "cell_type": "code",
   "execution_count": 15,
   "metadata": {},
   "outputs": [],
   "source": [
    "# 关闭session,writer对象\n",
    "writer.close()\n",
    "sess.close()"
   ]
  },
  {
   "cell_type": "code",
   "execution_count": 25,
   "metadata": {},
   "outputs": [
    {
     "data": {
      "text/plain": [
       "array([41, 34])"
      ]
     },
     "execution_count": 25,
     "metadata": {},
     "output_type": "execute_result"
    }
   ],
   "source": [
    "# 张量\n",
    "a = tf.constant([[5, 3, 2, 1], [4, 3, 2, 1]], name='input_a')\n",
    "b = tf.reduce_prod(a, name='prod_b', axis=1)\n",
    "c = tf.reduce_sum(a, name='sum_c', axis=1)\n",
    "e = c+b\n",
    "\n",
    "sess = tf.Session()\n",
    "sess.run(e)"
   ]
  },
  {
   "cell_type": "code",
   "execution_count": null,
   "metadata": {},
   "outputs": [],
   "source": [
    "# Graph 对象"
   ]
  },
  {
   "cell_type": "code",
   "execution_count": 27,
   "metadata": {},
   "outputs": [
    {
     "data": {
      "text/plain": [
       "array([30, 24])"
      ]
     },
     "execution_count": 27,
     "metadata": {},
     "output_type": "execute_result"
    }
   ],
   "source": [
    "## 创建流图\n",
    "# 初始化dataflow\n",
    "g = tf.Graph()\n",
    "# 添加operation\n",
    "with g.as_default():\n",
    "    a = tf.constant(5)\n",
    "    \n",
    "# 不在with语句块中的定义op都在默认的dataflow graph里\n",
    "default_graph = tf.get_default_graph()  # 获取默认的graph"
   ]
  },
  {
   "cell_type": "code",
   "execution_count": null,
   "metadata": {},
   "outputs": [],
   "source": [
    "# Session 对象\n",
    "# Session.run()接收一个参数fetches，以及其他三个可选参数：feed_dict\\options & run_metadata"
   ]
  },
  {
   "cell_type": "code",
   "execution_count": null,
   "metadata": {},
   "outputs": [],
   "source": [
    "sess.run([a, b])     # Op 列表\n",
    "sess.run(tf.initialize_all_variable())  # 执行初始化Variable对象，返回值是None"
   ]
  },
  {
   "cell_type": "code",
   "execution_count": null,
   "metadata": {},
   "outputs": [
    {
     "name": "stdout",
     "output_type": "stream",
     "text": [
      "10\n11\n"
     ]
    }
   ],
   "source": [
    "# feed_dict 参数 用于覆盖tensor对象的值 要求传入字典\n",
    "a = tf.constant(2)\n",
    "b = tf.constant(3)\n",
    "c = a+b\n",
    "d = a*b\n",
    "e = c+d\n",
    "with tf.Session() as sess:\n",
    "    print(sess.run(e, feed_dict={d: 5}))\n",
    "    \n",
    "# 推荐下面的做法    \n",
    "sess = tf.Session()\n",
    "with sess.as_default():\n",
    "    print(e.eval())     # sess.run(e)"
   ]
  },
  {
   "cell_type": "code",
   "execution_count": null,
   "metadata": {},
   "outputs": [],
   "source": [
    "# placeholder 利用占位节点添加输入\n",
    "# dtype参数是必须的\n",
    "a = tf.placeholder(tf.int32, shape=[2], name='input_a')\n",
    "b = tf.reduce_sum(a, name='sum_b')\n",
    "c = tf.reduce_prod(a, name='prod_c')\n",
    "d = b+c\n",
    "sess = tf.Session()\n",
    "input_dict = {a: np.array([5, 3], dtype=np.int32)}\n",
    "sess.run(d, feed_dict=input_dict)"
   ]
  },
  {
   "cell_type": "code",
   "execution_count": null,
   "metadata": {},
   "outputs": [],
   "source": [
    ""
   ]
  },
  {
   "cell_type": "code",
   "execution_count": 10,
   "metadata": {},
   "outputs": [
    {
     "data": {
      "text/plain": [
       "6"
      ]
     },
     "execution_count": 10,
     "metadata": {},
     "output_type": "execute_result"
    }
   ],
   "source": [
    "# Variable\n",
    "# 1.创建Variable对象\n",
    "var1 = tf.Variable(3, name='var1', trainable=False)\n",
    "sess = tf.Session()\n",
    "# 用于提供初始化值的辅助Op\n",
    "zeros = tf.zeros([2, 2])\n",
    "ones = tf.ones([6])\n",
    "uniform = tf.random_uniform([3, 3, 3], minval=0, maxval=10)  # 服从0~10的均匀分布\n",
    "normal = tf.random_normal([3, 3, 2], mean=0.0, stddev=2.0)\n",
    "trunc = tf.truncated_normal([2, 2], mean=5.0, stddev=1.0)   # 在2倍标准差范围内\n",
    "\n",
    "# 2.初始化variables\n",
    "init = tf.global_variables_initializer()\n",
    "sess.run(init)\n",
    "\n",
    "\n",
    "# 3.variable对象的修改\n",
    "var_update = var1.assign(var1*2)\n",
    "sess.run(var_update)\n",
    "sess.run(var1.assign_add(1))\n",
    "sess.run(var1.assign_sub(1))"
   ]
  },
  {
   "cell_type": "code",
   "execution_count": 14,
   "metadata": {},
   "outputs": [],
   "source": [
    "# 名称作用域\n",
    "with tf.name_scope(\"Scope_A\"):\n",
    "    a = tf.add(1, 2, name='A_add')\n",
    "    b = a*3\n",
    "with tf.name_scope(\"Scope_B\"):\n",
    "    c = tf.add(4, 5, name=\"B_add\")\n",
    "    d = c*6\n",
    "e = tf.add(b, d, name=\"output\")\n",
    "sess = tf.Session()\n",
    "output = sess.run(e)\n",
    "writer = tf.summary.FileWriter('./name_scope1', graph=tf.get_default_graph())\n",
    "writer.close()"
   ]
  },
  {
   "cell_type": "code",
   "execution_count": 2,
   "metadata": {},
   "outputs": [],
   "source": [
    "import tensorflow as tf\n",
    "import numpy as np\n",
    "graph = tf.Graph()\n",
    "with graph.as_default():\n",
    "    with tf.name_scope(\"variables\"):\n",
    "        # 追踪数据流图的运行次数\n",
    "        global_step = tf.Variable(0, dtype=tf.int32, trainable=False, name=\"global_step\")\n",
    "        # 追踪该模型的所有输出随时间的累加和的Variable\n",
    "        total_output = tf.Variable(0.0, dtype=tf.float32, trainable=False, name=\"total_output\")\n",
    "    \n",
    "    # 主要的变换op\n",
    "    with tf.name_scope(\"transformation\"):\n",
    "        # 独立的输入层\n",
    "        with tf.name_scope(\"input\"):\n",
    "            # 创建可接收一个向量的占位符\n",
    "            a = tf.placeholder(tf.float32, shape=[None], name=\"input_placeholder_a\")\n",
    "        # 独立的中间层\n",
    "        with tf.name_scope(\"intermediate_layer\"):\n",
    "            b = tf.reduce_prod(a, name=\"product_b\")\n",
    "            c = tf.reduce_sum(a, name=\"sum_c\")\n",
    "        # 独立的输出层\n",
    "        with tf.name_scope(\"output\"):\n",
    "            output = tf.add(b, c, name='output')\n",
    "    \n",
    "    with tf.name_scope(\"update\"):\n",
    "        # 用最新的输出更新Variable对象total_output\n",
    "        update_total = total_output.assign_add(output)\n",
    "        # 计数器global_step +1\n",
    "        increment_step = global_step.assign_add(1)\n",
    "    \n",
    "    with tf.name_scope(\"summaries\"):\n",
    "        avg = tf.div(update_total, tf.cast(increment_step, tf.float32), name=\"average\")\n",
    "        # 为输出节点创建汇总数据\n",
    "        tf.summary.scalar('Output', output)\n",
    "        tf.summary.scalar('Sum_of_outputs', update_total)\n",
    "        tf.summary.scalar('average_of_outputs', avg)\n",
    "    with tf.name_scope(\"global_ops\"):\n",
    "        init = tf.global_variables_initializer()\n",
    "        merged_summaries = tf.summary.merge_all()\n",
    "        \n",
    "# 运行data flow\n",
    "sess = tf.Session(graph=graph)\n",
    "writer = tf.summary.FileWriter('./frame', graph)\n",
    "\n",
    "with graph.as_default():\n",
    "    sess.run(tf.global_variables_initializer())\n",
    "\n",
    "\n",
    "def run_graph(input_tensor):\n",
    "    feed_dict = {a: input_tensor}\n",
    "    _, step, summary = sess.run([output, increment_step, merged_summaries], feed_dict=feed_dict)\n",
    "    writer.add_summary(summary, global_step=step)\n",
    "\n",
    "for i in range(10):\n",
    "    test_input = np.random.randint(0, 20, 5)\n",
    "    run_graph(test_input)\n",
    "    \n",
    "writer.add_graph(graph, 10)\n",
    "\n",
    "writer.flush()      # 数据填充完毕后，用flush()函数将汇总数据写入磁盘\n",
    "writer.close()\n",
    "sess.close()"
   ]
  },
  {
   "cell_type": "code",
   "execution_count": null,
   "metadata": {},
   "outputs": [],
   "source": [
    ""
   ]
  }
 ],
 "metadata": {
  "kernelspec": {
   "display_name": "Python 2",
   "language": "python",
   "name": "python2"
  },
  "language_info": {
   "codemirror_mode": {
    "name": "ipython",
    "version": 2.0
   },
   "file_extension": ".py",
   "mimetype": "text/x-python",
   "name": "python",
   "nbconvert_exporter": "python",
   "pygments_lexer": "ipython2",
   "version": "2.7.6"
  }
 },
 "nbformat": 4,
 "nbformat_minor": 0
}